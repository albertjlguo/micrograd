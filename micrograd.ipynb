{
  "cells": [
    {
      "cell_type": "markdown",
      "metadata": {
        "id": "view-in-github",
        "colab_type": "text"
      },
      "source": [
        "<a href=\"https://colab.research.google.com/github/realgjl/micrograd/blob/main/micrograd.ipynb\" target=\"_parent\"><img src=\"https://colab.research.google.com/assets/colab-badge.svg\" alt=\"Open In Colab\"/></a>"
      ]
    },
    {
      "cell_type": "code",
      "execution_count": 1,
      "id": "ae0dd3cc-6918-433e-97f1-5171ebaecb0a",
      "metadata": {
        "id": "ae0dd3cc-6918-433e-97f1-5171ebaecb0a"
      },
      "outputs": [],
      "source": [
        "import math\n",
        "import numpy as np\n",
        "import matplotlib.pyplot as plt\n",
        "%matplotlib inline"
      ]
    },
    {
      "cell_type": "code",
      "execution_count": 122,
      "id": "5b54d17b-9240-4b5c-8903-9880a051c439",
      "metadata": {
        "id": "5b54d17b-9240-4b5c-8903-9880a051c439",
        "outputId": "730e6e33-519e-461c-bd58-b5d82f04f841",
        "colab": {
          "base_uri": "https://localhost:8080/"
        }
      },
      "outputs": [
        {
          "output_type": "execute_result",
          "data": {
            "text/plain": [
              "Value(data=-8.0)"
            ]
          },
          "metadata": {},
          "execution_count": 122
        }
      ],
      "source": [
        "class Value:\n",
        "    \n",
        "    def __init__(self, data, _children=(), _op='', label=''):\n",
        "        self.data = data\n",
        "        self.grad = 0.0\n",
        "        self._backward = lambda: None\n",
        "        self._prev = set(_children)\n",
        "        self._op = _op\n",
        "        self.label = label\n",
        "        #self.grad = 0.0\n",
        "        \n",
        "    def __repr__(self):\n",
        "        return f\"Value(data={self.data})\"\n",
        "    \n",
        "    def __add__(self, other):\n",
        "        out = Value(self.data + other.data, (self, other), '+')\n",
        "        \n",
        "        def _backward():\n",
        "            self.grad = 1.0 * out.grad #d_o/d_self\n",
        "            other.grad = 1.0 * out.grad\n",
        "        out._backward = _backward\n",
        "\n",
        "        return out\n",
        "    \n",
        "    def __mul__(self, other):\n",
        "        out = Value(self.data * other.data, (self, other), '*')\n",
        "        \n",
        "        def _backward():\n",
        "            self.grad = other.data * out.grad\n",
        "            other.grad = self.data * out.grad\n",
        "        out._backward = _backward\n",
        "        \n",
        "        return out\n",
        "    \n",
        "    def tanh(self):\n",
        "        x = self.data\n",
        "        t = (math.exp(2*x) - 1)/(math.exp(2*x) + 1)\n",
        "        out = Value(t, (self, ), 'tanh')\n",
        "\n",
        "        def _backward():\n",
        "            self.grad = (1 - t**2) * out.grad\n",
        "        out._backward = _backward\n",
        "\n",
        "        return out\n",
        "    \n",
        "a = Value(2.0,label='a')\n",
        "b = Value(-3.0,label='b')\n",
        "c = Value(10.0,label='c')\n",
        "e = a*b; e.label = 'e'\n",
        "d = e + c; d.label = 'd'\n",
        "f = Value(-2.0,label='f')\n",
        "L = d * f; L.label = 'L'\n",
        "L"
      ]
    },
    {
      "cell_type": "code",
      "execution_count": 74,
      "id": "dfaeddf9-4f3f-4d29-b9a3-74d1ede4f03d",
      "metadata": {
        "id": "dfaeddf9-4f3f-4d29-b9a3-74d1ede4f03d"
      },
      "outputs": [],
      "source": [
        "from graphviz import Digraph\n",
        "\n",
        "def trace(root):\n",
        "  # builds a set of all nodes and edges in a graph\n",
        "  nodes, edges = set(), set()\n",
        "  def build(v):\n",
        "    if v not in nodes:\n",
        "      nodes.add(v)\n",
        "      for child in v._prev:\n",
        "        edges.add((child, v))\n",
        "        build(child)\n",
        "  build(root)\n",
        "  return nodes, edges\n",
        "\n",
        "def draw_dot(root):\n",
        "  dot = Digraph(format='svg', graph_attr={'rankdir': 'LR'}) # LR = left to right\n",
        "  \n",
        "  nodes, edges = trace(root)\n",
        "  for n in nodes:\n",
        "    uid = str(id(n))\n",
        "    # for any value in the graph, create a rectangular ('record') node for it\n",
        "    dot.node(name = uid, label = \"{ %s | data %.4f | grad %.4f }\" % (n.label, n.data, n.grad), shape='record')\n",
        "    if n._op:\n",
        "      # if this value is a result of some operation, create an op node for it\n",
        "      dot.node(name = uid + n._op, label = n._op)\n",
        "      # and connect this node to it\n",
        "      dot.edge(uid + n._op, uid)\n",
        "\n",
        "  for n1, n2 in edges:\n",
        "    # connect n1 to the op node of n2\n",
        "    dot.edge(str(id(n1)), str(id(n2)) + n2._op)\n",
        "\n",
        "  return dot"
      ]
    },
    {
      "cell_type": "code",
      "execution_count": 56,
      "id": "9da4afde-14ad-4175-a7f4-344a76300f08",
      "metadata": {
        "id": "9da4afde-14ad-4175-a7f4-344a76300f08",
        "outputId": "23526d28-454a-495c-e4cd-c5a189d9f6cf",
        "colab": {
          "base_uri": "https://localhost:8080/",
          "height": 246
        }
      },
      "outputs": [
        {
          "output_type": "execute_result",
          "data": {
            "text/plain": [
              "<graphviz.dot.Digraph at 0x7f41df1030a0>"
            ],
            "image/svg+xml": "<?xml version=\"1.0\" encoding=\"UTF-8\" standalone=\"no\"?>\n<!DOCTYPE svg PUBLIC \"-//W3C//DTD SVG 1.1//EN\"\n \"http://www.w3.org/Graphics/SVG/1.1/DTD/svg11.dtd\">\n<!-- Generated by graphviz version 2.40.1 (20161225.0304)\n -->\n<!-- Title: %3 Pages: 1 -->\n<svg width=\"1201pt\" height=\"154pt\"\n viewBox=\"0.00 0.00 1201.00 154.00\" xmlns=\"http://www.w3.org/2000/svg\" xmlns:xlink=\"http://www.w3.org/1999/xlink\">\n<g id=\"graph0\" class=\"graph\" transform=\"scale(1 1) rotate(0) translate(4 150)\">\n<title>%3</title>\n<polygon fill=\"#ffffff\" stroke=\"transparent\" points=\"-4,4 -4,-150 1197,-150 1197,4 -4,4\"/>\n<!-- 139920892053536 -->\n<g id=\"node1\" class=\"node\">\n<title>139920892053536</title>\n<polygon fill=\"none\" stroke=\"#000000\" points=\"666,-109.5 666,-145.5 863,-145.5 863,-109.5 666,-109.5\"/>\n<text text-anchor=\"middle\" x=\"676.5\" y=\"-123.8\" font-family=\"Times,serif\" font-size=\"14.00\" fill=\"#000000\">f</text>\n<polyline fill=\"none\" stroke=\"#000000\" points=\"687,-109.5 687,-145.5 \"/>\n<text text-anchor=\"middle\" x=\"731.5\" y=\"-123.8\" font-family=\"Times,serif\" font-size=\"14.00\" fill=\"#000000\">data &#45;2.0000</text>\n<polyline fill=\"none\" stroke=\"#000000\" points=\"776,-109.5 776,-145.5 \"/>\n<text text-anchor=\"middle\" x=\"819.5\" y=\"-123.8\" font-family=\"Times,serif\" font-size=\"14.00\" fill=\"#000000\">grad 4.0000</text>\n</g>\n<!-- 139920892054400* -->\n<g id=\"node10\" class=\"node\">\n<title>139920892054400*</title>\n<ellipse fill=\"none\" stroke=\"#000000\" cx=\"928\" cy=\"-99.5\" rx=\"27\" ry=\"18\"/>\n<text text-anchor=\"middle\" x=\"928\" y=\"-95.8\" font-family=\"Times,serif\" font-size=\"14.00\" fill=\"#000000\">*</text>\n</g>\n<!-- 139920892053536&#45;&gt;139920892054400* -->\n<g id=\"edge4\" class=\"edge\">\n<title>139920892053536&#45;&gt;139920892054400*</title>\n<path fill=\"none\" stroke=\"#000000\" d=\"M863.3805,-110.5663C873.4208,-108.8469 883.1001,-107.1893 891.7753,-105.7036\"/>\n<polygon fill=\"#000000\" stroke=\"#000000\" points=\"892.5502,-109.1219 901.8159,-103.9841 891.3686,-102.2224 892.5502,-109.1219\"/>\n</g>\n<!-- 139920892052048 -->\n<g id=\"node2\" class=\"node\">\n<title>139920892052048</title>\n<polygon fill=\"none\" stroke=\"#000000\" points=\"331,-82.5 331,-118.5 538,-118.5 538,-82.5 331,-82.5\"/>\n<text text-anchor=\"middle\" x=\"342.5\" y=\"-96.8\" font-family=\"Times,serif\" font-size=\"14.00\" fill=\"#000000\">c</text>\n<polyline fill=\"none\" stroke=\"#000000\" points=\"354,-82.5 354,-118.5 \"/>\n<text text-anchor=\"middle\" x=\"400\" y=\"-96.8\" font-family=\"Times,serif\" font-size=\"14.00\" fill=\"#000000\">data 10.0000</text>\n<polyline fill=\"none\" stroke=\"#000000\" points=\"446,-82.5 446,-118.5 \"/>\n<text text-anchor=\"middle\" x=\"492\" y=\"-96.8\" font-family=\"Times,serif\" font-size=\"14.00\" fill=\"#000000\">grad &#45;2.0000</text>\n</g>\n<!-- 139920892054880+ -->\n<g id=\"node8\" class=\"node\">\n<title>139920892054880+</title>\n<ellipse fill=\"none\" stroke=\"#000000\" cx=\"601\" cy=\"-72.5\" rx=\"27\" ry=\"18\"/>\n<text text-anchor=\"middle\" x=\"601\" y=\"-68.8\" font-family=\"Times,serif\" font-size=\"14.00\" fill=\"#000000\">+</text>\n</g>\n<!-- 139920892052048&#45;&gt;139920892054880+ -->\n<g id=\"edge7\" class=\"edge\">\n<title>139920892052048&#45;&gt;139920892054880+</title>\n<path fill=\"none\" stroke=\"#000000\" d=\"M538.0535,-83.0856C547.5392,-81.4904 556.6504,-79.9582 564.8524,-78.5789\"/>\n<polygon fill=\"#000000\" stroke=\"#000000\" points=\"565.4341,-82.0303 574.7152,-76.9203 564.2732,-75.1272 565.4341,-82.0303\"/>\n</g>\n<!-- 139920892054256 -->\n<g id=\"node3\" class=\"node\">\n<title>139920892054256</title>\n<polygon fill=\"none\" stroke=\"#000000\" points=\"332.5,-27.5 332.5,-63.5 536.5,-63.5 536.5,-27.5 332.5,-27.5\"/>\n<text text-anchor=\"middle\" x=\"344\" y=\"-41.8\" font-family=\"Times,serif\" font-size=\"14.00\" fill=\"#000000\">e</text>\n<polyline fill=\"none\" stroke=\"#000000\" points=\"355.5,-27.5 355.5,-63.5 \"/>\n<text text-anchor=\"middle\" x=\"400\" y=\"-41.8\" font-family=\"Times,serif\" font-size=\"14.00\" fill=\"#000000\">data &#45;6.0000</text>\n<polyline fill=\"none\" stroke=\"#000000\" points=\"444.5,-27.5 444.5,-63.5 \"/>\n<text text-anchor=\"middle\" x=\"490.5\" y=\"-41.8\" font-family=\"Times,serif\" font-size=\"14.00\" fill=\"#000000\">grad &#45;2.0000</text>\n</g>\n<!-- 139920892054256&#45;&gt;139920892054880+ -->\n<g id=\"edge8\" class=\"edge\">\n<title>139920892054256&#45;&gt;139920892054880+</title>\n<path fill=\"none\" stroke=\"#000000\" d=\"M536.6268,-62.0611C546.5808,-63.6753 556.1548,-65.2278 564.738,-66.6197\"/>\n<polygon fill=\"#000000\" stroke=\"#000000\" points=\"564.2437,-70.0852 574.675,-68.2311 565.3642,-63.1754 564.2437,-70.0852\"/>\n</g>\n<!-- 139920892054256* -->\n<g id=\"node4\" class=\"node\">\n<title>139920892054256*</title>\n<ellipse fill=\"none\" stroke=\"#000000\" cx=\"268\" cy=\"-45.5\" rx=\"27\" ry=\"18\"/>\n<text text-anchor=\"middle\" x=\"268\" y=\"-41.8\" font-family=\"Times,serif\" font-size=\"14.00\" fill=\"#000000\">*</text>\n</g>\n<!-- 139920892054256*&#45;&gt;139920892054256 -->\n<g id=\"edge1\" class=\"edge\">\n<title>139920892054256*&#45;&gt;139920892054256</title>\n<path fill=\"none\" stroke=\"#000000\" d=\"M295.1217,-45.5C303.0694,-45.5 312.2947,-45.5 322.1416,-45.5\"/>\n<polygon fill=\"#000000\" stroke=\"#000000\" points=\"322.1714,-49.0001 332.1714,-45.5 322.1713,-42.0001 322.1714,-49.0001\"/>\n</g>\n<!-- 139920892053776 -->\n<g id=\"node5\" class=\"node\">\n<title>139920892053776</title>\n<polygon fill=\"none\" stroke=\"#000000\" points=\"5,-55.5 5,-91.5 200,-91.5 200,-55.5 5,-55.5\"/>\n<text text-anchor=\"middle\" x=\"16.5\" y=\"-69.8\" font-family=\"Times,serif\" font-size=\"14.00\" fill=\"#000000\">a</text>\n<polyline fill=\"none\" stroke=\"#000000\" points=\"28,-55.5 28,-91.5 \"/>\n<text text-anchor=\"middle\" x=\"70.5\" y=\"-69.8\" font-family=\"Times,serif\" font-size=\"14.00\" fill=\"#000000\">data 2.0000</text>\n<polyline fill=\"none\" stroke=\"#000000\" points=\"113,-55.5 113,-91.5 \"/>\n<text text-anchor=\"middle\" x=\"156.5\" y=\"-69.8\" font-family=\"Times,serif\" font-size=\"14.00\" fill=\"#000000\">grad 6.0000</text>\n</g>\n<!-- 139920892053776&#45;&gt;139920892054256* -->\n<g id=\"edge9\" class=\"edge\">\n<title>139920892053776&#45;&gt;139920892054256*</title>\n<path fill=\"none\" stroke=\"#000000\" d=\"M200.2073,-56.9695C211.4112,-55.0739 222.2367,-53.2424 231.825,-51.6202\"/>\n<polygon fill=\"#000000\" stroke=\"#000000\" points=\"232.4272,-55.0682 241.7032,-49.949 231.2594,-48.1663 232.4272,-55.0682\"/>\n</g>\n<!-- 139920892055312 -->\n<g id=\"node6\" class=\"node\">\n<title>139920892055312</title>\n<polygon fill=\"none\" stroke=\"#000000\" points=\"0,-.5 0,-36.5 205,-36.5 205,-.5 0,-.5\"/>\n<text text-anchor=\"middle\" x=\"12\" y=\"-14.8\" font-family=\"Times,serif\" font-size=\"14.00\" fill=\"#000000\">b</text>\n<polyline fill=\"none\" stroke=\"#000000\" points=\"24,-.5 24,-36.5 \"/>\n<text text-anchor=\"middle\" x=\"68.5\" y=\"-14.8\" font-family=\"Times,serif\" font-size=\"14.00\" fill=\"#000000\">data &#45;3.0000</text>\n<polyline fill=\"none\" stroke=\"#000000\" points=\"113,-.5 113,-36.5 \"/>\n<text text-anchor=\"middle\" x=\"159\" y=\"-14.8\" font-family=\"Times,serif\" font-size=\"14.00\" fill=\"#000000\">grad &#45;4.0000</text>\n</g>\n<!-- 139920892055312&#45;&gt;139920892054256* -->\n<g id=\"edge6\" class=\"edge\">\n<title>139920892055312&#45;&gt;139920892054256*</title>\n<path fill=\"none\" stroke=\"#000000\" d=\"M205.4315,-35.2925C214.6641,-36.7987 223.5398,-38.2467 231.5595,-39.555\"/>\n<polygon fill=\"#000000\" stroke=\"#000000\" points=\"231.1342,-43.0318 241.5673,-41.1877 232.2613,-36.1232 231.1342,-43.0318\"/>\n</g>\n<!-- 139920892054880 -->\n<g id=\"node7\" class=\"node\">\n<title>139920892054880</title>\n<polygon fill=\"none\" stroke=\"#000000\" points=\"664,-54.5 664,-90.5 865,-90.5 865,-54.5 664,-54.5\"/>\n<text text-anchor=\"middle\" x=\"676\" y=\"-68.8\" font-family=\"Times,serif\" font-size=\"14.00\" fill=\"#000000\">d</text>\n<polyline fill=\"none\" stroke=\"#000000\" points=\"688,-54.5 688,-90.5 \"/>\n<text text-anchor=\"middle\" x=\"730.5\" y=\"-68.8\" font-family=\"Times,serif\" font-size=\"14.00\" fill=\"#000000\">data 4.0000</text>\n<polyline fill=\"none\" stroke=\"#000000\" points=\"773,-54.5 773,-90.5 \"/>\n<text text-anchor=\"middle\" x=\"819\" y=\"-68.8\" font-family=\"Times,serif\" font-size=\"14.00\" fill=\"#000000\">grad &#45;2.0000</text>\n</g>\n<!-- 139920892054880&#45;&gt;139920892054400* -->\n<g id=\"edge5\" class=\"edge\">\n<title>139920892054880&#45;&gt;139920892054400*</title>\n<path fill=\"none\" stroke=\"#000000\" d=\"M865.2542,-89.1383C874.5755,-90.6776 883.5479,-92.1593 891.6492,-93.4971\"/>\n<polygon fill=\"#000000\" stroke=\"#000000\" points=\"891.3169,-96.9896 901.7536,-95.1657 892.4575,-90.0831 891.3169,-96.9896\"/>\n</g>\n<!-- 139920892054880+&#45;&gt;139920892054880 -->\n<g id=\"edge2\" class=\"edge\">\n<title>139920892054880+&#45;&gt;139920892054880</title>\n<path fill=\"none\" stroke=\"#000000\" d=\"M628.3662,-72.5C635.8433,-72.5 644.4313,-72.5 653.5802,-72.5\"/>\n<polygon fill=\"#000000\" stroke=\"#000000\" points=\"653.702,-76.0001 663.702,-72.5 653.7019,-69.0001 653.702,-76.0001\"/>\n</g>\n<!-- 139920892054400 -->\n<g id=\"node9\" class=\"node\">\n<title>139920892054400</title>\n<polygon fill=\"none\" stroke=\"#000000\" points=\"991,-81.5 991,-117.5 1193,-117.5 1193,-81.5 991,-81.5\"/>\n<text text-anchor=\"middle\" x=\"1004\" y=\"-95.8\" font-family=\"Times,serif\" font-size=\"14.00\" fill=\"#000000\">L</text>\n<polyline fill=\"none\" stroke=\"#000000\" points=\"1017,-81.5 1017,-117.5 \"/>\n<text text-anchor=\"middle\" x=\"1061.5\" y=\"-95.8\" font-family=\"Times,serif\" font-size=\"14.00\" fill=\"#000000\">data &#45;8.0000</text>\n<polyline fill=\"none\" stroke=\"#000000\" points=\"1106,-81.5 1106,-117.5 \"/>\n<text text-anchor=\"middle\" x=\"1149.5\" y=\"-95.8\" font-family=\"Times,serif\" font-size=\"14.00\" fill=\"#000000\">grad 1.0000</text>\n</g>\n<!-- 139920892054400*&#45;&gt;139920892054400 -->\n<g id=\"edge3\" class=\"edge\">\n<title>139920892054400*&#45;&gt;139920892054400</title>\n<path fill=\"none\" stroke=\"#000000\" d=\"M955.0813,-99.5C962.631,-99.5 971.3302,-99.5 980.608,-99.5\"/>\n<polygon fill=\"#000000\" stroke=\"#000000\" points=\"980.8754,-103.0001 990.8754,-99.5 980.8754,-96.0001 980.8754,-103.0001\"/>\n</g>\n</g>\n</svg>\n"
          },
          "metadata": {},
          "execution_count": 56
        }
      ],
      "source": [
        "draw_dot(L)"
      ]
    },
    {
      "cell_type": "code",
      "source": [
        "a.data += 0.01 * a.grad\n",
        "b.data += 0.01 * b.grad\n",
        "c.data += 0.01 * c.grad\n",
        "f.data += 0.01 *f.grad\n",
        "\n",
        "e = a * b\n",
        "d = e + c\n",
        "L = d * f\n",
        "print(L.data)"
      ],
      "metadata": {
        "id": "frzzEKWpMfR5",
        "outputId": "ed499abc-44cf-41de-f655-3913c875b108",
        "colab": {
          "base_uri": "https://localhost:8080/"
        }
      },
      "id": "frzzEKWpMfR5",
      "execution_count": 60,
      "outputs": [
        {
          "output_type": "stream",
          "name": "stdout",
          "text": [
            "-7.286496\n"
          ]
        }
      ]
    },
    {
      "cell_type": "code",
      "source": [
        "def lol():\n",
        "\n",
        "    h = 0.001\n",
        "\n",
        "    a = Value(2.0,label='a')\n",
        "    #a.data += h\n",
        "    b = Value(-3.0,label='b')\n",
        "    c = Value(10.0,label='c')\n",
        "    e = a*b; e.label = 'e'\n",
        "    d = e + c; d.label = 'd'\n",
        "    f = Value(-2.0,label='f')\n",
        "    L = d * f; L.label = 'L'\n",
        "    L1 = L.data\n",
        "\n",
        "    a = Value(2.0,label='a')\n",
        "    b = Value(-3.0,label='b')\n",
        "    c = Value(10.0,label='c')\n",
        "    e = a*b; e.label = 'e'\n",
        "    d = e + c; d.label = 'd'\n",
        "    f = Value(-2.0,label='f')\n",
        "    L = d * f; L.label = 'L'\n",
        "    L2 = L.data\n",
        "\n",
        "    print((L2 - L1)/h)\n",
        "\n",
        "lol()"
      ],
      "metadata": {
        "id": "28r4kIv0Dipz",
        "outputId": "d95f372a-b631-4f24-ff06-2737914aea3c",
        "colab": {
          "base_uri": "https://localhost:8080/"
        }
      },
      "id": "28r4kIv0Dipz",
      "execution_count": 59,
      "outputs": [
        {
          "output_type": "stream",
          "name": "stdout",
          "text": [
            "0.0\n"
          ]
        }
      ]
    },
    {
      "cell_type": "code",
      "source": [
        "plt.plot(np.arange(-5,5,0.2), np.tanh(np.arange(-5,5,0.2)))\n",
        "plt.grid();"
      ],
      "metadata": {
        "id": "vOUPQ-ppDjCw",
        "outputId": "7418cb0a-ac14-4dea-afb3-d83c98c75784",
        "colab": {
          "base_uri": "https://localhost:8080/",
          "height": 265
        }
      },
      "id": "vOUPQ-ppDjCw",
      "execution_count": 61,
      "outputs": [
        {
          "output_type": "display_data",
          "data": {
            "text/plain": [
              "<Figure size 432x288 with 1 Axes>"
            ],
            "image/png": "[encoded data removed]"
          },
          "metadata": {
            "needs_background": "light"
          }
        }
      ]
    },
    {
      "cell_type": "code",
      "source": [
        "# inputs x1,x2\n",
        "x1 = Value(2.0, label='x1')\n",
        "x2 = Value(0.0, label='x2')\n",
        "# weights w1,w2\n",
        "w1 = Value(-3.0, label='w1')\n",
        "w2 = Value(1.0, label='w2')\n",
        "# bias of the neuron\n",
        "b = Value(6.8813735870195432, label='b')\n",
        "# x1*w1 + x2*w2 + b\n",
        "x1w1 = x1*w1; x1w1.label = 'x1*w1'\n",
        "x2w2 = x2*w2; x2w2.label = 'x2*w2'\n",
        "x1w1x2w2 = x1w1 + x2w2; x1w1x2w2.label = 'x1*w1 + x2*w2'\n",
        "n = x1w1x2w2 + b; n.label = 'n'\n",
        "o = n.tanh(); o.label = 'o'\n"
      ],
      "metadata": {
        "id": "PwtasjmeDjFN"
      },
      "id": "PwtasjmeDjFN",
      "execution_count": 123,
      "outputs": []
    },
    {
      "cell_type": "code",
      "source": [
        "draw_dot(o)"
      ],
      "metadata": {
        "id": "hQpe33ZsWxmO",
        "outputId": "1bf6eddd-c232-47f0-e80b-09fbc5b73c0b",
        "colab": {
          "base_uri": "https://localhost:8080/",
          "height": 321
        }
      },
      "id": "hQpe33ZsWxmO",
      "execution_count": 136,
      "outputs": [
        {
          "output_type": "execute_result",
          "data": {
            "text/plain": [
              "<graphviz.dot.Digraph at 0x7f41d5c24be0>"
            ],
            "image/svg+xml": "<?xml version=\"1.0\" encoding=\"UTF-8\" standalone=\"no\"?>\n<!DOCTYPE svg PUBLIC \"-//W3C//DTD SVG 1.1//EN\"\n \"http://www.w3.org/Graphics/SVG/1.1/DTD/svg11.dtd\">\n<!-- Generated by graphviz version 2.40.1 (20161225.0304)\n -->\n<!-- Title: %3 Pages: 1 -->\n<svg width=\"1637pt\" height=\"210pt\"\n viewBox=\"0.00 0.00 1637.00 210.00\" xmlns=\"http://www.w3.org/2000/svg\" xmlns:xlink=\"http://www.w3.org/1999/xlink\">\n<g id=\"graph0\" class=\"graph\" transform=\"scale(1 1) rotate(0) translate(4 206)\">\n<title>%3</title>\n<polygon fill=\"#ffffff\" stroke=\"transparent\" points=\"-4,4 -4,-206 1633,-206 1633,4 -4,4\"/>\n<!-- 139920735804480 -->\n<g id=\"node1\" class=\"node\">\n<title>139920735804480</title>\n<polygon fill=\"none\" stroke=\"#000000\" points=\"696,-82.5 696,-118.5 985,-118.5 985,-82.5 696,-82.5\"/>\n<text text-anchor=\"middle\" x=\"752.5\" y=\"-96.8\" font-family=\"Times,serif\" font-size=\"14.00\" fill=\"#000000\">x1*w1 + x2*w2</text>\n<polyline fill=\"none\" stroke=\"#000000\" points=\"809,-82.5 809,-118.5 \"/>\n<text text-anchor=\"middle\" x=\"853.5\" y=\"-96.8\" font-family=\"Times,serif\" font-size=\"14.00\" fill=\"#000000\">data &#45;6.0000</text>\n<polyline fill=\"none\" stroke=\"#000000\" points=\"898,-82.5 898,-118.5 \"/>\n<text text-anchor=\"middle\" x=\"941.5\" y=\"-96.8\" font-family=\"Times,serif\" font-size=\"14.00\" fill=\"#000000\">grad 0.5000</text>\n</g>\n<!-- 139920730336320+ -->\n<g id=\"node4\" class=\"node\">\n<title>139920730336320+</title>\n<ellipse fill=\"none\" stroke=\"#000000\" cx=\"1048\" cy=\"-127.5\" rx=\"27\" ry=\"18\"/>\n<text text-anchor=\"middle\" x=\"1048\" y=\"-123.8\" font-family=\"Times,serif\" font-size=\"14.00\" fill=\"#000000\">+</text>\n</g>\n<!-- 139920735804480&#45;&gt;139920730336320+ -->\n<g id=\"edge8\" class=\"edge\">\n<title>139920735804480&#45;&gt;139920730336320+</title>\n<path fill=\"none\" stroke=\"#000000\" d=\"M978.9055,-118.5094C990.5887,-120.0296 1001.6094,-121.4636 1011.2737,-122.7212\"/>\n<polygon fill=\"#000000\" stroke=\"#000000\" points=\"1010.8271,-126.1925 1021.1952,-124.0121 1011.7304,-119.251 1010.8271,-126.1925\"/>\n</g>\n<!-- 139920735804480+ -->\n<g id=\"node2\" class=\"node\">\n<title>139920735804480+</title>\n<ellipse fill=\"none\" stroke=\"#000000\" cx=\"633\" cy=\"-100.5\" rx=\"27\" ry=\"18\"/>\n<text text-anchor=\"middle\" x=\"633\" y=\"-96.8\" font-family=\"Times,serif\" font-size=\"14.00\" fill=\"#000000\">+</text>\n</g>\n<!-- 139920735804480+&#45;&gt;139920735804480 -->\n<g id=\"edge1\" class=\"edge\">\n<title>139920735804480+&#45;&gt;139920735804480</title>\n<path fill=\"none\" stroke=\"#000000\" d=\"M660.127,-100.5C667.628,-100.5 676.3363,-100.5 685.7965,-100.5\"/>\n<polygon fill=\"#000000\" stroke=\"#000000\" points=\"685.9081,-104.0001 695.908,-100.5 685.908,-97.0001 685.9081,-104.0001\"/>\n</g>\n<!-- 139920730336320 -->\n<g id=\"node3\" class=\"node\">\n<title>139920730336320</title>\n<polygon fill=\"none\" stroke=\"#000000\" points=\"1111,-109.5 1111,-145.5 1307,-145.5 1307,-109.5 1111,-109.5\"/>\n<text text-anchor=\"middle\" x=\"1123\" y=\"-123.8\" font-family=\"Times,serif\" font-size=\"14.00\" fill=\"#000000\">n</text>\n<polyline fill=\"none\" stroke=\"#000000\" points=\"1135,-109.5 1135,-145.5 \"/>\n<text text-anchor=\"middle\" x=\"1177.5\" y=\"-123.8\" font-family=\"Times,serif\" font-size=\"14.00\" fill=\"#000000\">data 0.8814</text>\n<polyline fill=\"none\" stroke=\"#000000\" points=\"1220,-109.5 1220,-145.5 \"/>\n<text text-anchor=\"middle\" x=\"1263.5\" y=\"-123.8\" font-family=\"Times,serif\" font-size=\"14.00\" fill=\"#000000\">grad 0.5000</text>\n</g>\n<!-- 139920730333536tanh -->\n<g id=\"node13\" class=\"node\">\n<title>139920730333536tanh</title>\n<ellipse fill=\"none\" stroke=\"#000000\" cx=\"1370\" cy=\"-127.5\" rx=\"27\" ry=\"18\"/>\n<text text-anchor=\"middle\" x=\"1370\" y=\"-123.8\" font-family=\"Times,serif\" font-size=\"14.00\" fill=\"#000000\">tanh</text>\n</g>\n<!-- 139920730336320&#45;&gt;139920730333536tanh -->\n<g id=\"edge10\" class=\"edge\">\n<title>139920730336320&#45;&gt;139920730333536tanh</title>\n<path fill=\"none\" stroke=\"#000000\" d=\"M1307.2922,-127.5C1316.2042,-127.5 1324.8099,-127.5 1332.6423,-127.5\"/>\n<polygon fill=\"#000000\" stroke=\"#000000\" points=\"1332.7996,-131.0001 1342.7995,-127.5 1332.7995,-124.0001 1332.7996,-131.0001\"/>\n</g>\n<!-- 139920730336320+&#45;&gt;139920730336320 -->\n<g id=\"edge2\" class=\"edge\">\n<title>139920730336320+&#45;&gt;139920730336320</title>\n<path fill=\"none\" stroke=\"#000000\" d=\"M1075.3115,-127.5C1082.8223,-127.5 1091.4512,-127.5 1100.6318,-127.5\"/>\n<polygon fill=\"#000000\" stroke=\"#000000\" points=\"1100.7835,-131.0001 1110.7835,-127.5 1100.7835,-124.0001 1100.7835,-131.0001\"/>\n</g>\n<!-- 139920730333824 -->\n<g id=\"node5\" class=\"node\">\n<title>139920730333824</title>\n<polygon fill=\"none\" stroke=\"#000000\" points=\"742.5,-137.5 742.5,-173.5 938.5,-173.5 938.5,-137.5 742.5,-137.5\"/>\n<text text-anchor=\"middle\" x=\"754.5\" y=\"-151.8\" font-family=\"Times,serif\" font-size=\"14.00\" fill=\"#000000\">b</text>\n<polyline fill=\"none\" stroke=\"#000000\" points=\"766.5,-137.5 766.5,-173.5 \"/>\n<text text-anchor=\"middle\" x=\"809\" y=\"-151.8\" font-family=\"Times,serif\" font-size=\"14.00\" fill=\"#000000\">data 6.8814</text>\n<polyline fill=\"none\" stroke=\"#000000\" points=\"851.5,-137.5 851.5,-173.5 \"/>\n<text text-anchor=\"middle\" x=\"895\" y=\"-151.8\" font-family=\"Times,serif\" font-size=\"14.00\" fill=\"#000000\">grad 0.5000</text>\n</g>\n<!-- 139920730333824&#45;&gt;139920730336320+ -->\n<g id=\"edge7\" class=\"edge\">\n<title>139920730333824&#45;&gt;139920730336320+</title>\n<path fill=\"none\" stroke=\"#000000\" d=\"M938.7811,-142.238C964.6496,-138.7473 990.9727,-135.1952 1011.2938,-132.4531\"/>\n<polygon fill=\"#000000\" stroke=\"#000000\" points=\"1011.897,-135.9035 1021.3391,-131.0976 1010.9609,-128.9664 1011.897,-135.9035\"/>\n</g>\n<!-- 139920730334880 -->\n<g id=\"node6\" class=\"node\">\n<title>139920730334880</title>\n<polygon fill=\"none\" stroke=\"#000000\" points=\"1,-165.5 1,-201.5 210,-201.5 210,-165.5 1,-165.5\"/>\n<text text-anchor=\"middle\" x=\"17\" y=\"-179.8\" font-family=\"Times,serif\" font-size=\"14.00\" fill=\"#000000\">x1</text>\n<polyline fill=\"none\" stroke=\"#000000\" points=\"33,-165.5 33,-201.5 \"/>\n<text text-anchor=\"middle\" x=\"75.5\" y=\"-179.8\" font-family=\"Times,serif\" font-size=\"14.00\" fill=\"#000000\">data 2.0000</text>\n<polyline fill=\"none\" stroke=\"#000000\" points=\"118,-165.5 118,-201.5 \"/>\n<text text-anchor=\"middle\" x=\"164\" y=\"-179.8\" font-family=\"Times,serif\" font-size=\"14.00\" fill=\"#000000\">grad &#45;1.5000</text>\n</g>\n<!-- 139920730333488* -->\n<g id=\"node10\" class=\"node\">\n<title>139920730333488*</title>\n<ellipse fill=\"none\" stroke=\"#000000\" cx=\"274\" cy=\"-128.5\" rx=\"27\" ry=\"18\"/>\n<text text-anchor=\"middle\" x=\"274\" y=\"-124.8\" font-family=\"Times,serif\" font-size=\"14.00\" fill=\"#000000\">*</text>\n</g>\n<!-- 139920730334880&#45;&gt;139920730333488* -->\n<g id=\"edge13\" class=\"edge\">\n<title>139920730334880&#45;&gt;139920730333488*</title>\n<path fill=\"none\" stroke=\"#000000\" d=\"M182.3017,-165.4558C192.0361,-162.698 201.8026,-159.6955 211,-156.5 221.6243,-152.8088 232.9373,-148.0548 243.0021,-143.5155\"/>\n<polygon fill=\"#000000\" stroke=\"#000000\" points=\"244.5909,-146.6371 252.2061,-139.271 241.6594,-140.2805 244.5909,-146.6371\"/>\n</g>\n<!-- 139920730335936 -->\n<g id=\"node7\" class=\"node\">\n<title>139920730335936</title>\n<polygon fill=\"none\" stroke=\"#000000\" points=\"0,-110.5 0,-146.5 211,-146.5 211,-110.5 0,-110.5\"/>\n<text text-anchor=\"middle\" x=\"17.5\" y=\"-124.8\" font-family=\"Times,serif\" font-size=\"14.00\" fill=\"#000000\">w1</text>\n<polyline fill=\"none\" stroke=\"#000000\" points=\"35,-110.5 35,-146.5 \"/>\n<text text-anchor=\"middle\" x=\"79.5\" y=\"-124.8\" font-family=\"Times,serif\" font-size=\"14.00\" fill=\"#000000\">data &#45;3.0000</text>\n<polyline fill=\"none\" stroke=\"#000000\" points=\"124,-110.5 124,-146.5 \"/>\n<text text-anchor=\"middle\" x=\"167.5\" y=\"-124.8\" font-family=\"Times,serif\" font-size=\"14.00\" fill=\"#000000\">grad 1.0000</text>\n</g>\n<!-- 139920730335936&#45;&gt;139920730333488* -->\n<g id=\"edge11\" class=\"edge\">\n<title>139920730335936&#45;&gt;139920730333488*</title>\n<path fill=\"none\" stroke=\"#000000\" d=\"M211.2568,-128.5C220.2576,-128.5 228.9074,-128.5 236.7567,-128.5\"/>\n<polygon fill=\"#000000\" stroke=\"#000000\" points=\"236.9217,-132.0001 246.9217,-128.5 236.9217,-125.0001 236.9217,-132.0001\"/>\n</g>\n<!-- 139920730334496 -->\n<g id=\"node8\" class=\"node\">\n<title>139920730334496</title>\n<polygon fill=\"none\" stroke=\"#000000\" points=\"2,-55.5 2,-91.5 209,-91.5 209,-55.5 2,-55.5\"/>\n<text text-anchor=\"middle\" x=\"19.5\" y=\"-69.8\" font-family=\"Times,serif\" font-size=\"14.00\" fill=\"#000000\">w2</text>\n<polyline fill=\"none\" stroke=\"#000000\" points=\"37,-55.5 37,-91.5 \"/>\n<text text-anchor=\"middle\" x=\"79.5\" y=\"-69.8\" font-family=\"Times,serif\" font-size=\"14.00\" fill=\"#000000\">data 1.0000</text>\n<polyline fill=\"none\" stroke=\"#000000\" points=\"122,-55.5 122,-91.5 \"/>\n<text text-anchor=\"middle\" x=\"165.5\" y=\"-69.8\" font-family=\"Times,serif\" font-size=\"14.00\" fill=\"#000000\">grad 0.0000</text>\n</g>\n<!-- 139920730334160* -->\n<g id=\"node15\" class=\"node\">\n<title>139920730334160*</title>\n<ellipse fill=\"none\" stroke=\"#000000\" cx=\"274\" cy=\"-73.5\" rx=\"27\" ry=\"18\"/>\n<text text-anchor=\"middle\" x=\"274\" y=\"-69.8\" font-family=\"Times,serif\" font-size=\"14.00\" fill=\"#000000\">*</text>\n</g>\n<!-- 139920730334496&#45;&gt;139920730334160* -->\n<g id=\"edge12\" class=\"edge\">\n<title>139920730334496&#45;&gt;139920730334160*</title>\n<path fill=\"none\" stroke=\"#000000\" d=\"M209.3354,-73.5C219.0497,-73.5 228.3963,-73.5 236.8187,-73.5\"/>\n<polygon fill=\"#000000\" stroke=\"#000000\" points=\"236.951,-77.0001 246.9509,-73.5 236.9509,-70.0001 236.951,-77.0001\"/>\n</g>\n<!-- 139920730333488 -->\n<g id=\"node9\" class=\"node\">\n<title>139920730333488</title>\n<polygon fill=\"none\" stroke=\"#000000\" points=\"337,-110.5 337,-146.5 570,-146.5 570,-110.5 337,-110.5\"/>\n<text text-anchor=\"middle\" x=\"365.5\" y=\"-124.8\" font-family=\"Times,serif\" font-size=\"14.00\" fill=\"#000000\">x1*w1</text>\n<polyline fill=\"none\" stroke=\"#000000\" points=\"394,-110.5 394,-146.5 \"/>\n<text text-anchor=\"middle\" x=\"438.5\" y=\"-124.8\" font-family=\"Times,serif\" font-size=\"14.00\" fill=\"#000000\">data &#45;6.0000</text>\n<polyline fill=\"none\" stroke=\"#000000\" points=\"483,-110.5 483,-146.5 \"/>\n<text text-anchor=\"middle\" x=\"526.5\" y=\"-124.8\" font-family=\"Times,serif\" font-size=\"14.00\" fill=\"#000000\">grad 0.5000</text>\n</g>\n<!-- 139920730333488&#45;&gt;139920735804480+ -->\n<g id=\"edge14\" class=\"edge\">\n<title>139920730333488&#45;&gt;139920735804480+</title>\n<path fill=\"none\" stroke=\"#000000\" d=\"M568.9566,-110.4901C578.7184,-108.9673 588.037,-107.5137 596.3947,-106.21\"/>\n<polygon fill=\"#000000\" stroke=\"#000000\" points=\"597.0871,-109.6444 606.4281,-104.6449 596.0082,-102.7281 597.0871,-109.6444\"/>\n</g>\n<!-- 139920730333488*&#45;&gt;139920730333488 -->\n<g id=\"edge3\" class=\"edge\">\n<title>139920730333488*&#45;&gt;139920730333488</title>\n<path fill=\"none\" stroke=\"#000000\" d=\"M301.2622,-128.5C308.8324,-128.5 317.5801,-128.5 326.9781,-128.5\"/>\n<polygon fill=\"#000000\" stroke=\"#000000\" points=\"326.9853,-132.0001 336.9853,-128.5 326.9852,-125.0001 326.9853,-132.0001\"/>\n</g>\n<!-- 139920730334016 -->\n<g id=\"node11\" class=\"node\">\n<title>139920730334016</title>\n<polygon fill=\"none\" stroke=\"#000000\" points=\"3.5,-.5 3.5,-36.5 207.5,-36.5 207.5,-.5 3.5,-.5\"/>\n<text text-anchor=\"middle\" x=\"19.5\" y=\"-14.8\" font-family=\"Times,serif\" font-size=\"14.00\" fill=\"#000000\">x2</text>\n<polyline fill=\"none\" stroke=\"#000000\" points=\"35.5,-.5 35.5,-36.5 \"/>\n<text text-anchor=\"middle\" x=\"78\" y=\"-14.8\" font-family=\"Times,serif\" font-size=\"14.00\" fill=\"#000000\">data 0.0000</text>\n<polyline fill=\"none\" stroke=\"#000000\" points=\"120.5,-.5 120.5,-36.5 \"/>\n<text text-anchor=\"middle\" x=\"164\" y=\"-14.8\" font-family=\"Times,serif\" font-size=\"14.00\" fill=\"#000000\">grad 0.5000</text>\n</g>\n<!-- 139920730334016&#45;&gt;139920730334160* -->\n<g id=\"edge6\" class=\"edge\">\n<title>139920730334016&#45;&gt;139920730334160*</title>\n<path fill=\"none\" stroke=\"#000000\" d=\"M179.1277,-36.5688C189.8946,-39.636 200.7889,-42.9778 211,-46.5 221.4855,-50.1168 232.6874,-54.6793 242.694,-59.0193\"/>\n<polygon fill=\"#000000\" stroke=\"#000000\" points=\"241.2981,-62.229 251.8592,-63.0741 244.1302,-55.8274 241.2981,-62.229\"/>\n</g>\n<!-- 139920730333536 -->\n<g id=\"node12\" class=\"node\">\n<title>139920730333536</title>\n<polygon fill=\"none\" stroke=\"#000000\" points=\"1433,-109.5 1433,-145.5 1629,-145.5 1629,-109.5 1433,-109.5\"/>\n<text text-anchor=\"middle\" x=\"1445\" y=\"-123.8\" font-family=\"Times,serif\" font-size=\"14.00\" fill=\"#000000\">o</text>\n<polyline fill=\"none\" stroke=\"#000000\" points=\"1457,-109.5 1457,-145.5 \"/>\n<text text-anchor=\"middle\" x=\"1499.5\" y=\"-123.8\" font-family=\"Times,serif\" font-size=\"14.00\" fill=\"#000000\">data 0.7071</text>\n<polyline fill=\"none\" stroke=\"#000000\" points=\"1542,-109.5 1542,-145.5 \"/>\n<text text-anchor=\"middle\" x=\"1585.5\" y=\"-123.8\" font-family=\"Times,serif\" font-size=\"14.00\" fill=\"#000000\">grad 1.0000</text>\n</g>\n<!-- 139920730333536tanh&#45;&gt;139920730333536 -->\n<g id=\"edge4\" class=\"edge\">\n<title>139920730333536tanh&#45;&gt;139920730333536</title>\n<path fill=\"none\" stroke=\"#000000\" d=\"M1397.3115,-127.5C1404.8223,-127.5 1413.4512,-127.5 1422.6318,-127.5\"/>\n<polygon fill=\"#000000\" stroke=\"#000000\" points=\"1422.7835,-131.0001 1432.7835,-127.5 1422.7835,-124.0001 1422.7835,-131.0001\"/>\n</g>\n<!-- 139920730334160 -->\n<g id=\"node14\" class=\"node\">\n<title>139920730334160</title>\n<polygon fill=\"none\" stroke=\"#000000\" points=\"339,-55.5 339,-91.5 568,-91.5 568,-55.5 339,-55.5\"/>\n<text text-anchor=\"middle\" x=\"367.5\" y=\"-69.8\" font-family=\"Times,serif\" font-size=\"14.00\" fill=\"#000000\">x2*w2</text>\n<polyline fill=\"none\" stroke=\"#000000\" points=\"396,-55.5 396,-91.5 \"/>\n<text text-anchor=\"middle\" x=\"438.5\" y=\"-69.8\" font-family=\"Times,serif\" font-size=\"14.00\" fill=\"#000000\">data 0.0000</text>\n<polyline fill=\"none\" stroke=\"#000000\" points=\"481,-55.5 481,-91.5 \"/>\n<text text-anchor=\"middle\" x=\"524.5\" y=\"-69.8\" font-family=\"Times,serif\" font-size=\"14.00\" fill=\"#000000\">grad 0.5000</text>\n</g>\n<!-- 139920730334160&#45;&gt;139920735804480+ -->\n<g id=\"edge9\" class=\"edge\">\n<title>139920730334160&#45;&gt;139920735804480+</title>\n<path fill=\"none\" stroke=\"#000000\" d=\"M568.1964,-90.7524C578.2591,-92.266 587.8673,-93.7112 596.4577,-95.0034\"/>\n<polygon fill=\"#000000\" stroke=\"#000000\" points=\"595.984,-98.4714 606.3934,-96.4979 597.0253,-91.5493 595.984,-98.4714\"/>\n</g>\n<!-- 139920730334160*&#45;&gt;139920730334160 -->\n<g id=\"edge5\" class=\"edge\">\n<title>139920730334160*&#45;&gt;139920730334160</title>\n<path fill=\"none\" stroke=\"#000000\" d=\"M301.2622,-73.5C309.2798,-73.5 318.6183,-73.5 328.6514,-73.5\"/>\n<polygon fill=\"#000000\" stroke=\"#000000\" points=\"328.8929,-77.0001 338.8928,-73.5 328.8928,-70.0001 328.8929,-77.0001\"/>\n</g>\n</g>\n</svg>\n"
          },
          "metadata": {},
          "execution_count": 136
        }
      ]
    },
    {
      "cell_type": "code",
      "source": [
        "topo = []\n",
        "visited = set()\n",
        "def build_topo(v):\n",
        "  if v not in visited:\n",
        "    visited.add(v)\n",
        "    for child in v._prev:\n",
        "      build_topo(child)\n",
        "    topo.append(v)\n",
        "build_topo(o)\n",
        "topo"
      ],
      "metadata": {
        "id": "xkVKbbitgdhU",
        "outputId": "dec47eb6-21b4-4d21-9bcb-e788e080ea7f",
        "colab": {
          "base_uri": "https://localhost:8080/"
        }
      },
      "id": "xkVKbbitgdhU",
      "execution_count": 137,
      "outputs": [
        {
          "output_type": "execute_result",
          "data": {
            "text/plain": [
              "[Value(data=6.881373587019543),\n",
              " Value(data=2.0),\n",
              " Value(data=-3.0),\n",
              " Value(data=-6.0),\n",
              " Value(data=1.0),\n",
              " Value(data=0.0),\n",
              " Value(data=0.0),\n",
              " Value(data=-6.0),\n",
              " Value(data=0.8813735870195432),\n",
              " Value(data=0.7071067811865476)]"
            ]
          },
          "metadata": {},
          "execution_count": 137
        }
      ]
    },
    {
      "cell_type": "code",
      "source": [],
      "metadata": {
        "id": "HwFKCPs4gdlF"
      },
      "id": "HwFKCPs4gdlF",
      "execution_count": null,
      "outputs": []
    },
    {
      "cell_type": "code",
      "source": [],
      "metadata": {
        "id": "QpBytKC9gdps"
      },
      "id": "QpBytKC9gdps",
      "execution_count": null,
      "outputs": []
    },
    {
      "cell_type": "code",
      "source": [
        "o.grad = 1.0"
      ],
      "metadata": {
        "id": "wCjkho_sfCu8"
      },
      "id": "wCjkho_sfCu8",
      "execution_count": 125,
      "outputs": []
    },
    {
      "cell_type": "code",
      "source": [
        "o._backward()"
      ],
      "metadata": {
        "id": "iibGE2-UfCxq"
      },
      "id": "iibGE2-UfCxq",
      "execution_count": 127,
      "outputs": []
    },
    {
      "cell_type": "code",
      "source": [
        "n._backward()"
      ],
      "metadata": {
        "id": "WPSMKNXdfC5e"
      },
      "id": "WPSMKNXdfC5e",
      "execution_count": 129,
      "outputs": []
    },
    {
      "cell_type": "code",
      "source": [
        "b._backward()"
      ],
      "metadata": {
        "id": "HWU_gi7gf9YS"
      },
      "id": "HWU_gi7gf9YS",
      "execution_count": 131,
      "outputs": []
    },
    {
      "cell_type": "code",
      "source": [
        "x1w1x2w2._backward()"
      ],
      "metadata": {
        "id": "F_s2Yz-ef9dp"
      },
      "id": "F_s2Yz-ef9dp",
      "execution_count": 133,
      "outputs": []
    },
    {
      "cell_type": "code",
      "source": [
        "x1w1._backward()\n",
        "x2w2._backward()"
      ],
      "metadata": {
        "id": "ADPt3nX-f9iw"
      },
      "id": "ADPt3nX-f9iw",
      "execution_count": 135,
      "outputs": []
    },
    {
      "cell_type": "code",
      "source": [],
      "metadata": {
        "id": "j27FDZQ9gI1l"
      },
      "id": "j27FDZQ9gI1l",
      "execution_count": null,
      "outputs": []
    },
    {
      "cell_type": "code",
      "source": [],
      "metadata": {
        "id": "3MnCbdEEgI33"
      },
      "id": "3MnCbdEEgI33",
      "execution_count": null,
      "outputs": []
    },
    {
      "cell_type": "code",
      "source": [],
      "metadata": {
        "id": "GQZrANQqgI6a"
      },
      "id": "GQZrANQqgI6a",
      "execution_count": null,
      "outputs": []
    },
    {
      "cell_type": "code",
      "source": [],
      "metadata": {
        "id": "Ueu6EmJDgI82"
      },
      "id": "Ueu6EmJDgI82",
      "execution_count": null,
      "outputs": []
    },
    {
      "cell_type": "code",
      "source": [
        "x1.grad = "
      ],
      "metadata": {
        "id": "wKud8364YRKI"
      },
      "id": "wKud8364YRKI",
      "execution_count": null,
      "outputs": []
    },
    {
      "cell_type": "code",
      "source": [
        "x2.grad = w2.data * x2w2.grad\n",
        "w2.grad = x2.data * x2w2.grad"
      ],
      "metadata": {
        "id": "6R7ANCxKX8sK"
      },
      "id": "6R7ANCxKX8sK",
      "execution_count": 102,
      "outputs": []
    },
    {
      "cell_type": "code",
      "source": [
        "o.grad = 1.0\n",
        "n.grad = .5\n",
        "b.grad=.5\n",
        "x1w1.grad = .5\n",
        "x2w2.grad = .5"
      ],
      "metadata": {
        "id": "5Tw4wL-hDjIY"
      },
      "id": "5Tw4wL-hDjIY",
      "execution_count": 101,
      "outputs": []
    },
    {
      "cell_type": "code",
      "source": [],
      "metadata": {
        "id": "BdS3EqhLVrLF"
      },
      "id": "BdS3EqhLVrLF",
      "execution_count": null,
      "outputs": []
    },
    {
      "cell_type": "code",
      "source": [],
      "metadata": {
        "id": "hC1BPf9CVrNS"
      },
      "id": "hC1BPf9CVrNS",
      "execution_count": null,
      "outputs": []
    }
  ],
  "metadata": {
    "kernelspec": {
      "display_name": "Python 3 (ipykernel)",
      "language": "python",
      "name": "python3"
    },
    "language_info": {
      "codemirror_mode": {
        "name": "ipython",
        "version": 3
      },
      "file_extension": ".py",
      "mimetype": "text/x-python",
      "name": "python",
      "nbconvert_exporter": "python",
      "pygments_lexer": "ipython3",
      "version": "3.9.15"
    },
    "colab": {
      "provenance": [],
      "include_colab_link": true
    }
  },
  "nbformat": 4,
  "nbformat_minor": 5
}